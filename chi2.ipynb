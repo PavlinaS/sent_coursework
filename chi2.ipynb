{
 "cells": [
  {
   "cell_type": "code",
   "execution_count": 58,
   "metadata": {},
   "outputs": [],
   "source": [
    "import pandas as pd\n",
    "from scipy.stats import chi2_contingency\n",
    "import numpy as np\n",
    "from tqdm import tqdm_notebook as tqdm\n",
    "df = pd.read_excel('C:/Users/79627/WPy64-3741/notebooks/telegram/data/rf_res.xlsx')"
   ]
  },
  {
   "cell_type": "code",
   "execution_count": 59,
   "metadata": {},
   "outputs": [
    {
     "name": "stderr",
     "output_type": "stream",
     "text": [
      "C:\\Users\\79627\\WPy64-3741\\python-3.7.4.amd64\\lib\\site-packages\\ipykernel_launcher.py:2: TqdmDeprecationWarning: This function will be removed in tqdm==5.0.0\n",
      "Please use `tqdm.notebook.tqdm` instead of `tqdm.tqdm_notebook`\n",
      "  \n"
     ]
    },
    {
     "data": {
      "application/vnd.jupyter.widget-view+json": {
       "model_id": "8503bc0fd3724feaba037edf34250e06",
       "version_major": 2,
       "version_minor": 0
      },
      "text/plain": [
       "  0%|          | 0/26866 [00:00<?, ?it/s]"
      ]
     },
     "metadata": {},
     "output_type": "display_data"
    },
    {
     "name": "stderr",
     "output_type": "stream",
     "text": [
      "C:\\Users\\79627\\WPy64-3741\\python-3.7.4.amd64\\lib\\site-packages\\pandas\\core\\indexing.py:1637: SettingWithCopyWarning: \n",
      "A value is trying to be set on a copy of a slice from a DataFrame\n",
      "\n",
      "See the caveats in the documentation: https://pandas.pydata.org/pandas-docs/stable/user_guide/indexing.html#returning-a-view-versus-a-copy\n",
      "  self._setitem_single_block(indexer, value, name)\n"
     ]
    }
   ],
   "source": [
    "df['chi2_p'] = None\n",
    "for i in tqdm(range(df.shape[0]), position=0, leave=True):\n",
    "    x = [abs(df[['sentiment_0_coef', 'sentiment_1_coef', 'sentiment_-1_coef']].iloc[i][0]), \\\n",
    "         abs(df[['sentiment_0_coef', 'sentiment_1_coef', 'sentiment_-1_coef']].iloc[i][1]), \\\n",
    "         abs(df[['sentiment_0_coef', 'sentiment_1_coef', 'sentiment_-1_coef']].iloc[i][2])]\n",
    "    y = [sum(x) for i in range(3)]\n",
    "    df['chi2_p'].iloc[i] = chi2_contingency([x, y])[1]"
   ]
  },
  {
   "cell_type": "code",
   "execution_count": 60,
   "metadata": {},
   "outputs": [],
   "source": [
    "df.chi2_p = df.chi2_p.astype(float)"
   ]
  },
  {
   "cell_type": "code",
   "execution_count": 61,
   "metadata": {},
   "outputs": [
    {
     "data": {
      "text/plain": [
       "array(['bane', 'yndx', 'gmkn'], dtype=object)"
      ]
     },
     "execution_count": 61,
     "metadata": {},
     "output_type": "execute_result"
    }
   ],
   "source": [
    "df[df.chi2_p <=0.05].ticker.unique()"
   ]
  },
  {
   "cell_type": "code",
   "execution_count": 62,
   "metadata": {},
   "outputs": [
    {
     "data": {
      "text/plain": [
       "Index(['counter', 'ticker', 'date', 'min_df', 'j_neut', 'j_pos', 'j_neg',\n",
       "       'min_samples_leaf', 'min_samples_split', 'max_depth', 'n_estimator',\n",
       "       'max_feature', 'train_size', 'test_size', 'obs', 'bh',\n",
       "       'original_return_isna_all', 'model_return_isna_all',\n",
       "       'model_return_isna_short', 'model_return_isna_long',\n",
       "       'model_diver_return_isna_all', 'model_diver_return_isna_short',\n",
       "       'model_diver_return_isna_long', 'train_accuracy',\n",
       "       'train_precision_macro', 'train_precision_micro', 'train_recall_micro',\n",
       "       'train_recall_macro', 'train_f1_micro', 'train_f1_macro', 'const',\n",
       "       'close_lag_1_coef', 'volatility_5_lag_1_coef', 'sentiment_0_coef',\n",
       "       'sentiment_1_coef', 'sentiment_-1_coef', 'const_p', 'close_lag_1_p',\n",
       "       'volatility_5_lag_1_p', 'sentiment_0_p', 'sentiment_1_p',\n",
       "       'sentiment_-1_p', 'r2', 'nobs', 'chi2_p'],\n",
       "      dtype='object')"
      ]
     },
     "execution_count": 62,
     "metadata": {},
     "output_type": "execute_result"
    }
   ],
   "source": [
    "df.columns"
   ]
  },
  {
   "cell_type": "code",
   "execution_count": 63,
   "metadata": {},
   "outputs": [
    {
     "data": {
      "text/plain": [
       "array(['vtbr', 'bane', 'gazp', 'lsng', 'upro', 'sber'], dtype=object)"
      ]
     },
     "execution_count": 63,
     "metadata": {},
     "output_type": "execute_result"
    }
   ],
   "source": [
    "df[df.bh < df.model_return_isna_all].ticker.unique()"
   ]
  },
  {
   "cell_type": "code",
   "execution_count": 64,
   "metadata": {},
   "outputs": [
    {
     "data": {
      "text/plain": [
       "array(['vtbr', 'bane', 'gazp', 'rasp', 'yndx', 'lsng', 'gmkn', 'upro',\n",
       "       'sber', 'selg'], dtype=object)"
      ]
     },
     "execution_count": 64,
     "metadata": {},
     "output_type": "execute_result"
    }
   ],
   "source": [
    "df.ticker.unique()"
   ]
  },
  {
   "cell_type": "code",
   "execution_count": 66,
   "metadata": {},
   "outputs": [],
   "source": [
    "df.to_excel('C:/Users/79627/WPy64-3741/notebooks/telegram/data/RES_h4.xlsx', index=False)"
   ]
  },
  {
   "cell_type": "code",
   "execution_count": null,
   "metadata": {},
   "outputs": [],
   "source": []
  },
  {
   "cell_type": "code",
   "execution_count": null,
   "metadata": {},
   "outputs": [],
   "source": []
  }
 ],
 "metadata": {
  "kernelspec": {
   "display_name": "Python 3",
   "language": "python",
   "name": "python3"
  },
  "language_info": {
   "codemirror_mode": {
    "name": "ipython",
    "version": 3
   },
   "file_extension": ".py",
   "mimetype": "text/x-python",
   "name": "python",
   "nbconvert_exporter": "python",
   "pygments_lexer": "ipython3",
   "version": "3.7.4"
  }
 },
 "nbformat": 4,
 "nbformat_minor": 2
}
